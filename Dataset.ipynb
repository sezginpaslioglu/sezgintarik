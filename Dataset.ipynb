{
 "cells": [
  {
   "cell_type": "code",
   "execution_count": null,
   "metadata": {
    "collapsed": true
   },
   "outputs": [],
   "source": [
    "# Project Title\n",
    "\n",
    "## Members\n",
    "\n",
    "1. Tarık Yıldırımlı // yildirimli@itu.edu.tr\n",
    "2. Sezgin Paslıoğlu // paslioglu@itu.edu.tr\n",
    "\n",
    "## Description of the project\n",
    "\n",
    "### The methods to be used\n",
    "\n",
    "asf\n",
    "\n",
    "### The data\n",
    "\n",
    "https://beta.bls.gov/dataViewer/view/timeseries/LNU02000000\n",
    "\n",
    "## Code\n",
    "\n",
    "dataset<-read.csv(file.choose())\n",
    "dataset\n",
    "View(dataset)\n",
    "temp<-dataset[,c(2,5)]\n",
    "plot(temp, type='l')\n",
    "plot(temp, type='l', ylab=\"Unemployement\", col='red')\n",
    "plot(temp, type='l', ylab=\"Unemployement\", col='red',lwd='2')\n",
    "plot(temp, type='l', ylab=\"Unemployment\")\n",
    "plot(temp, type='l', ylab=\"Unemployment\", col='red',lwd='2', main=\"UNEMPLOYMENT LEVEL\")\n",
    "View(temp)\n",
    "x<-log10(dataset$value)\n",
    "plot(x)\n",
    "plot(x,type=\"l\")\n",
    "newData<-data.frame(dataset,RR=rep(0:11,69)[0:831])\n",
    "result<-glm(Value~RR,data=newData)\n",
    "plot(result$residuals,type=\"l\")"
   ]
  },
  {
   "cell_type": "code",
   "execution_count": null,
   "metadata": {
    "collapsed": false
   },
   "outputs": [],
   "source": [
    "data <- read.csv(\"https://archive.ics.uci.edu/ml/machine-learning-databases/wine/wine.data\", header=FALSE)\n",
    "head(data)"
   ]
  },
  {
   "cell_type": "code",
   "execution_count": null,
   "metadata": {
    "collapsed": false
   },
   "outputs": [],
   "source": [
    "hist(data$V4)"
   ]
  }
 ],
 "metadata": {
  "kernelspec": {
   "display_name": "R",
   "language": "R",
   "name": "ir"
  },
  "language_info": {
   "codemirror_mode": "r",
   "file_extension": ".r",
   "mimetype": "text/x-r-source",
   "name": "R",
   "pygments_lexer": "r",
   "version": "3.3.1"
  }
 },
 "nbformat": 4,
 "nbformat_minor": 2
}
