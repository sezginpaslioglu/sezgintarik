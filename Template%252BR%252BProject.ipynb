{
 "cells": [
  {
   "cell_type": "markdown",
   "metadata": {
    "collapsed": true
   },
   "source": [
    "# Project Title\n",
    "\n",
    "## Members\n",
    "\n",
    "1. Tarık Yıldırımlı // yildirimli@itu.edu.tr\n",
    "2. Sezgin Paslıoğlu // paslioglu@itu.edu.tr\n",
    "\n",
    "## Description of the project\n",
    "\n",
    "### The methods to be used\n",
    "\n",
    "ZAMAN SERİLERİ\n",
    "\n",
    "Bir verinin bir dönemden diğerine (günlük, haftalık, aylık vs.) ardışık şekilde gözlendiği sayısal değerlere \"zaman serisi\" denilmektedir. Bu tarz veriler saatlik olabileceği gibi aylık, 3 aylık, yıllık da olabilir. Zaman serileri ekonomi, finans, mühendislik, sağlık, eğitim gibi çok farklı alanlarda toplanabilir. Bu farklılık sonucunda veri özellikleri değişim gösterir.\n",
    "\n",
    "Bir zaman serisi analizi için uygun olan yöntemin veya modelin seçimi, serinin oluşumunu etkileyen unsurların (örüntülerin) belirlenmesindeki başarıya bağlıdır. Bir zaman serisi 4 bileşenden oluşur;\n",
    "\n",
    "1) Trend\n",
    "\n",
    "2) Mevsimsellik\n",
    "\n",
    "3) Konjonktür\n",
    "\n",
    "4) Düzensiz Bileşen veya Rastgelelik\n",
    "\n",
    "TREND\n",
    "\n",
    "Uzun dönemde oldukça kararlı bir şekilde yükselme veya alçalma eğilimleri gösterir. Üstel olabilen trendlerin yanı sıra doğrusal veya kararlı ifade edilen trendler de olabilir. Verilerin işlenebilmesi için ilk olarak trendden arındırılması gerekir ayrıca 2 tip trend vardır. Bunlar;\n",
    "\n",
    "a)Deterministlik trend,\n",
    "\n",
    "b)Stokastik trend\n",
    "\n",
    "Eğer verimiz fark almakla trendden kurtuluyorsa stokastik trend söz konusudur fakat kurtulamıyorsa deterministik trend söz konusudur ve farklı işlemler yapmak gerekir.\n",
    "\n",
    "Ekonomik zaman serilerinde deterministik trendlerin oluşumunda, teknik ve teknolojik gelişmeler, gelir-fiyat üzerindeki değişmeler, sermaye birikimindeki artışlar büyük rol oynar. Bu faktörler trendin artışında veya azalışında etkilidir. Deterministik trendi olan zaman serileri herhangi bir şoktan etkilenip artış veya azalış göstermelerinden hemen sonra sahip olduğu uzun dönemli harekete geri dönerler. Stokastik trendlerde ise sıçramalar sonucunda başladığı noktaya geri dönme olmaz.\n",
    "\n",
    "MEVSİMSELLİK\n",
    "\n",
    "Ekonomik zaman serileri aylık, haftalık ya da 3 aylık gözlendiklerinde yıldan yıla yinelenen mevsimsel bir hareketlilik sergilerler. Mevsimsellik de stokastik ve deterministik olarak 2 gruba ayrılır. R programı içinde yer alan filtreler yardımıyla veriler mevsimsellikten temizlenir fakat %100 temizleme mümkün değildir. Sıralama yapacak olursak ilk mevsimsellik sonra trend temizlenir.\n",
    "\n",
    "KONJONKTÜR\n",
    "\n",
    "Bir çok zaman serisi mevsimsel davranışlarla ilgisi olmayan bazı salınımlar sergiler bunların düzenli aralıklarla olması gerekmez .Aşağı ya da yukarı doruk ve dik noktası görünümünde grafiklerdir. Ekonomilerin kriz dönemlerinde, politik istikrarsızlık döneminde, doğal afet dönemlerinde görülür.\n",
    "\n",
    "DÜZENSİZLİK\n",
    "Ani nedenlerle geçici olarak ortaya çıkan nedenler düzensiz bileşenlerdir. Büyüklüğü ve yönü önceden tahmin edilemez. 11 Eylül saldırısını örek olarak verebiliriz.\n",
    "\n",
    "ZAMAN SERİLERİNDE DURAĞANLIK\n",
    "\n",
    "Zaman serilerinde tahminleme yapabilmek için verilerin trend ve mevsimsellikten arındırılması gerekir. Trend ve mevsimsellikten arındırılmamış veriye durağan olmayan veri denir. Eğer veri trend ve mevsimsellikten arındırılmışsa, durağan veri denir ve artık tahminleme yapılabilir.\n",
    "\n",
    "### The data\n",
    "\n",
    "https://beta.bls.gov/dataViewer/view/timeseries/LNS13000000;jsessionid=01108D7A83E80F32F06544FAABF34644.tc_instance6\n",
    "\n",
    "## Code\n",
    "\n",
    "dataset<-read.csv(file.choose())\n",
    "dataset\n",
    "View(dataset)\n",
    "temp<-dataset[,c(2,5)]\n",
    "plot(temp, type='l')\n",
    "plot(temp, type='l', ylab=\"Unemployement\", col='red')\n",
    "plot(temp, type='l', ylab=\"Unemployement\", col='red',lwd='2')\n",
    "plot(temp, type='l', ylab=\"Unemployment\")\n",
    "plot(temp, type='l', ylab=\"Unemployment\", col='red',lwd='2', main=\"UNEMPLOYMENT LEVEL\")\n",
    "View(temp)\n",
    "x<-log10(dataset$value)\n",
    "plot(x)\n",
    "plot(x,type=\"l\")\n",
    "newData<-data.frame(dataset,RR=rep(0:11,69)[0:831])\n",
    "result<-glm(Value~RR,data=newData)\n",
    "plot(result$residuals,type=\"l\")"
   ]
  },
  {
   "cell_type": "code",
   "execution_count": null,
   "metadata": {
    "collapsed": false
   },
   "outputs": [],
   "source": [
    "data <- read.csv(\"https://archive.ics.uci.edu/ml/machine-learning-databases/wine/wine.data\", header=FALSE)\n",
    "head(data)"
   ]
  },
  {
   "cell_type": "code",
   "execution_count": null,
   "metadata": {
    "collapsed": false
   },
   "outputs": [],
   "source": [
    "hist(data$V4)"
   ]
  }
 ],
 "metadata": {
  "kernelspec": {
   "display_name": "R",
   "language": "R",
   "name": "ir"
  },
  "language_info": {
   "codemirror_mode": "r",
   "file_extension": ".r",
   "mimetype": "text/x-r-source",
   "name": "R",
   "pygments_lexer": "r",
   "version": "3.3.1"
  }
 },
 "nbformat": 4,
 "nbformat_minor": 2
}
