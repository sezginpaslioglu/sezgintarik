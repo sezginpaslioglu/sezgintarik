{
 "cells": [
  {
   "cell_type": "markdown",
   "metadata": {},
   "source": [
    "# Project Title\n",
    "\n",
    "## Members\n",
    "\n",
    "1. Tarýk Yýldýrýmlý// yildirimlit@itu.edu.tr\n",
    "2. Sezgin Paslýoðlu// paslioglu@itu.edu.tr\n",
    "\n",
    "## Description of the project\n",
    "\n",
    "### The methods to be used\n",
    "\n",
    "Explaina.\n",
    "\n",
    "### The data\n",
    "\n",
    "https://beta.bls.gov/dataViewer/view/timeseries/LNS13000000;jsessionid=520DFCE8720C0D7A50BB78B31EA479FC.tc_instance6\n",
    "\n",
    "## Code\n",
    "\n",
   " dataset<-read.csv(file.choose())
"dataset
"View(dataset)
"temp<-dataset[,c(2,5)]
"plot(temp, type='l')
"plot(temp, type='l', ylab="Unemployement")
"plot(temp, type='l', ylab="Unemployement", col='red')
"plot(temp, type='l', ylab="Unemployement", col='red',lwd='2')
"plot(temp, type='l', ylab="Unemployement", col='red',lwd='2', main="UNEMPLOYMENT LEVEL")
"plot(temp, type='l', ylab="Unemployment")
"plot(temp, type='l', ylab="Unemployment")
"plot(temp, type='l', ylab="Unemployement", col='red',lwd='2', main="UNEMPLOYMENT LEVEL")
"plot(temp, type='l', ylab="Unemployemnt", col='red',lwd='2', main="UNEMPLOYMENT LEVEL")
"plot(temp, type='l', ylab="Unemployment", col='red',lwd='2', main="UNEMPLOYMENT LEVEL")
"View(temp)
   ]
  },
  {
   "cell_type": "code",
   "execution_count": null,
   "metadata": {
    "collapsed": false
   },
   "outputs": [],
   "source": [
    "data <- read.csv(\"https://archive.ics.uci.edu/ml/machine-learning-databases/wine/wine.data\", header=FALSE)\n",
    "head(data)"
   ]
  },
  {
   "cell_type": "code",
   "execution_count": null,
   "metadata": {
    "collapsed": false
   },
   "outputs": [],
   "source": [
    "hist(data$V4)"
   ]
  }
 ],
 "metadata": {
  "kernelspec": {
   "display_name": "R",
   "language": "R",
   "name": "ir"
  },
  "language_info": {
   "codemirror_mode": "r",
   "file_extension": ".r",
   "mimetype": "text/x-r-source",
   "name": "R",
   "pygments_lexer": "r",
   "version": "3.2.3"
  }
 },
 "nbformat": 4,
 "nbformat_minor": 2
}
