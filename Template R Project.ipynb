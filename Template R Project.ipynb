{
 "cells": [
  {
   "cell_type": "markdown",
   "metadata": {},
   "source": [
    "# Project Title\n",
    "\n",
    "## Members\n",
    "\n",
    "1. Tarýk Yýldýrýmlý// yildirimlit@itu.edu.tr\n",
    "2. Sezgin Paslýoðlu// paslioglu@itu.edu.tr\n",
    "\n",
    "## Description of the project\n",
    "\n",
    "### The methods to be used\n",
    "\n",
    "Explain.\n",
    "\n",
    "### The data\n",
    "\n",

    "\n",
    "## Code\n",
    "\n",

    
   ]
  },
  {
   "cell_type": "code",
   "execution_count": null,
   "metadata": {
    "collapsed": false
   },
   "outputs": [],
   "source": [
    "data <- read.csv(\"https://archive.ics.uci.edu/ml/machine-learning-databases/wine/wine.data\", header=FALSE)\n",
    "head(data)"
   ]
  },
  {
   "cell_type": "code",
   "execution_count": null,
   "metadata": {
    "collapsed": false
   },
   "outputs": [],
   "source": [
    "hist(data$V4)"
   ]
  }
 ],
 "metadata": {
  "kernelspec": {
   "display_name": "R",
   "language": "R",
   "name": "ir"
  },
  "language_info": {
   "codemirror_mode": "r",
   "file_extension": ".r",
   "mimetype": "text/x-r-source",
   "name": "R",
   "pygments_lexer": "r",
   "version": "3.2.3"
  }
 },
 "nbformat": 4,
 "nbformat_minor": 2
}
